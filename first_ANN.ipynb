{
  "nbformat": 4,
  "nbformat_minor": 0,
  "metadata": {
    "colab": {
      "provenance": [],
      "authorship_tag": "ABX9TyOdH50oyfKsct3DPJUxi5Jk",
      "include_colab_link": true
    },
    "kernelspec": {
      "name": "python3",
      "display_name": "Python 3"
    },
    "language_info": {
      "name": "python"
    }
  },
  "cells": [
    {
      "cell_type": "markdown",
      "metadata": {
        "id": "view-in-github",
        "colab_type": "text"
      },
      "source": [
        "<a href=\"https://colab.research.google.com/github/allaberdi001/Pythonic-AI/blob/main/first_ANN.ipynb\" target=\"_parent\"><img src=\"https://colab.research.google.com/assets/colab-badge.svg\" alt=\"Open In Colab\"/></a>"
      ]
    },
    {
      "cell_type": "code",
      "execution_count": 27,
      "metadata": {
        "colab": {
          "base_uri": "https://localhost:8080/"
        },
        "id": "2z2dfhX8ogm7",
        "outputId": "58aef256-fab9-41b1-9332-45254383662a"
      },
      "outputs": [
        {
          "output_type": "stream",
          "name": "stdout",
          "text": [
            "**************\n",
            "(60000, 784)\n",
            "(10000, 784)\n"
          ]
        }
      ],
      "source": [
        "import tensorflow as tf\n",
        "import numpy as np\n",
        "import matplotlib.pyplot as plt\n",
        "\n",
        "mnist=tf.keras.datasets.mnist\n",
        "(x_train, y_train),(x_test,y_test)=mnist.load_data()\n",
        "print('**************')\n",
        " #flatten the images (28x28 becomes 784)\n",
        "x_train=x_train.reshape(x_train.shape[0],x_train.shape[1]*x_train.shape[2])\n",
        "x_test=x_test.reshape(x_test.shape[0],x_test.shape[1]*x_test.shape[2])\n",
        "print(x_train.shape)\n",
        "print(x_test.shape)\n",
        "\n",
        "# Min-Max normalization\n",
        "x_train=x_train/255.0\n",
        "x_test=x_test/255.0\n",
        "\n",
        "#using Sequential API to build the model\n",
        "\n"
      ]
    }
  ]
}